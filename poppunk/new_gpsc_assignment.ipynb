{
 "cells": [
  {
   "cell_type": "code",
   "execution_count": 1,
   "id": "7a9904e7",
   "metadata": {},
   "outputs": [],
   "source": [
    "import pandas as pd\n",
    "import os\n",
    "import sys"
   ]
  },
  {
   "cell_type": "code",
   "execution_count": 2,
   "id": "67d383bf",
   "metadata": {},
   "outputs": [],
   "source": [
    "dbs_path = \"/home/ubuntu/poppunk/poppunk_db\"\n",
    "prev_db = \"GPS_v9\"\n",
    "new_db = \"GPS_v9_1\""
   ]
  },
  {
   "cell_type": "code",
   "execution_count": 3,
   "id": "d48532b5",
   "metadata": {},
   "outputs": [],
   "source": [
    "prev_db_poppunk_cluster_path = os.path.join(dbs_path, prev_db, f\"{prev_db}_clusters.csv\")\n",
    "prev_db_gpsc_path = os.path.join(dbs_path, f\"{prev_db}_external_clusters.csv\")\n",
    "\n",
    "new_db_poppunk_cluster_path = os.path.join(dbs_path, new_db, f\"{new_db}_clusters.csv\")\n",
    "new_db_gpsc_path = os.path.join(dbs_path, new_db, f\"{new_db}_external_clusters.csv\")"
   ]
  },
  {
   "cell_type": "code",
   "execution_count": 4,
   "id": "c3ec56ad",
   "metadata": {},
   "outputs": [],
   "source": [
    "df_prev_db_poppunk_cluster = pd.read_csv(prev_db_poppunk_cluster_path, dtype=str, keep_default_na=False)\n",
    "df_prev_db_gpsc = pd.read_csv(prev_db_gpsc_path, dtype=str, keep_default_na=False)\n",
    "\n",
    "df_new_db_poppunk_cluster = pd.read_csv(new_db_poppunk_cluster_path, dtype=str, keep_default_na=False)\n",
    "df_new_db_gpsc = pd.read_csv(new_db_gpsc_path, dtype=str, keep_default_na=False)"
   ]
  },
  {
   "cell_type": "code",
   "execution_count": 5,
   "id": "0ade69cc",
   "metadata": {},
   "outputs": [],
   "source": [
    "prev_gpscs_history = set(df_prev_db_gpsc[\"merge_history\"])\n",
    "# Drop 235;9 as it is an exceptional case\n",
    "prev_gpscs_history.remove(\"235;9\")\n",
    "prev_gpscs_history_splitted = {int(gpsc_splitted) for gpsc_merged in prev_gpscs_history for gpsc_splitted in gpsc_merged.split(\";\")}\n",
    "\n",
    "prev_poppunk_clusters = set(df_prev_db_poppunk_cluster[\"Cluster\"])\n",
    "prev_poppunk_clusters_splitted = {int(poppunk_cluster_splitted) for poppunk_cluster_merged in prev_poppunk_clusters for poppunk_cluster_splitted in poppunk_cluster_merged.split(\"_\")}\n",
    "\n",
    "new_poppunk_clusters = set(df_new_db_poppunk_cluster[\"Cluster\"])\n",
    "new_poppunk_clusters_splitted = {int(poppunk_cluster_splitted) for poppunk_cluster_merged in new_poppunk_clusters for poppunk_cluster_splitted in poppunk_cluster_merged.split(\"_\")}"
   ]
  },
  {
   "cell_type": "code",
   "execution_count": 6,
   "id": "7da3ca04",
   "metadata": {},
   "outputs": [
    {
     "name": "stdout",
     "output_type": "stream",
     "text": [
      "PopPUNK Cluster range used in previous database GPS_v9: 1 - 1231\n",
      "GPSC range used in previous database GPS_v9: 1 - 1122\n",
      "\n",
      "The difference between maximum PopPUNK Cluster and GPSC range in GPS_v9: 109\n",
      "\n"
     ]
    }
   ],
   "source": [
    "prev_poppunk_clusters_min = min(prev_poppunk_clusters_splitted)\n",
    "prev_poppunk_clusters_max = max(prev_poppunk_clusters_splitted)\n",
    "\n",
    "print(f\"PopPUNK Cluster range used in previous database {prev_db}: {prev_poppunk_clusters_min} - {prev_poppunk_clusters_max}\")\n",
    "\n",
    "prev_gpsc_history_min = min(prev_gpscs_history_splitted)\n",
    "prev_gpsc_history_max = max(prev_gpscs_history_splitted)\n",
    "\n",
    "print(f\"GPSC range used in previous database {prev_db}: {prev_gpsc_history_min} - {prev_gpsc_history_max}\\n\")\n",
    "\n",
    "diff_poppunk_clusters_and_gpsc_max = prev_poppunk_clusters_max - prev_gpsc_history_max\n",
    "print(f\"The difference between maximum PopPUNK Cluster and GPSC range in {prev_db}: {diff_poppunk_clusters_and_gpsc_max}\\n\")"
   ]
  },
  {
   "cell_type": "code",
   "execution_count": 7,
   "id": "fd5acd2e",
   "metadata": {},
   "outputs": [
    {
     "name": "stdout",
     "output_type": "stream",
     "text": [
      "Number of samples with unassigned GPSC in new database GPS_v9_1: 4\n",
      "New PopPUNK Cluster range used in new database GPS_v9_1: 1232 - 1234 (Length: 3)\n"
     ]
    }
   ],
   "source": [
    "new_poppunk_new_clusters = new_poppunk_clusters_splitted - prev_poppunk_clusters_splitted\n",
    "\n",
    "new_poppunk_new_clusters_min = min(new_poppunk_new_clusters)\n",
    "new_poppunk_new_clusters_max = max(new_poppunk_new_clusters)\n",
    "\n",
    "print(f\"Number of samples with unassigned GPSC in new database {new_db}: {len(df_new_db_gpsc[df_new_db_gpsc[\"GPSC\"] == \"NA\"])}\")\n",
    "print(f\"New PopPUNK Cluster range used in new database {new_db}: {new_poppunk_new_clusters_min} - {new_poppunk_new_clusters_max} (Length: {new_poppunk_new_clusters_max - new_poppunk_new_clusters_min + 1})\")"
   ]
  },
  {
   "cell_type": "code",
   "execution_count": 8,
   "id": "a6b4f6d2",
   "metadata": {},
   "outputs": [],
   "source": [
    "df_new_db_gpsc = df_new_db_gpsc.merge(df_new_db_poppunk_cluster.rename(columns={\"Taxon\": \"sample\"}), on=\"sample\", how=\"left\")\n",
    "\n",
    "gpsc_unassigned_mask = df_new_db_gpsc['GPSC'] == \"NA\"\n",
    "df_new_db_gpsc.loc[gpsc_unassigned_mask, \"GPSC\"] = df_new_db_gpsc.loc[gpsc_unassigned_mask, \"Cluster\"].astype(int) - diff_poppunk_clusters_and_gpsc_max\n"
   ]
  },
  {
   "cell_type": "code",
   "execution_count": 9,
   "id": "acad723f",
   "metadata": {},
   "outputs": [],
   "source": [
    "df_new_db_gpsc = df_new_db_gpsc.astype(str)"
   ]
  },
  {
   "cell_type": "code",
   "execution_count": 10,
   "id": "b3f0bed9",
   "metadata": {},
   "outputs": [],
   "source": [
    "df_new_db_gpsc = df_new_db_gpsc[[\"sample\", \"GPSC\"]].merge(df_prev_db_gpsc[[\"sample\", \"merge_history\"]], on=\"sample\", how=\"left\")\n",
    "df_new_db_gpsc[\"merge_history\"] = df_new_db_gpsc[\"merge_history\"].fillna(df_new_db_gpsc[\"GPSC\"])"
   ]
  },
  {
   "cell_type": "code",
   "execution_count": 11,
   "id": "23605250",
   "metadata": {},
   "outputs": [],
   "source": [
    "merged_gpscs = set()\n",
    "\n",
    "for index, row in df_new_db_gpsc.iterrows():\n",
    "    # Skip 235;9 in merge cluster joint to keep it isolated\n",
    "    if row[\"GPSC\"] == \"235;9\":\n",
    "        continue\n",
    "    gpsc_splitted = set(row[\"GPSC\"].split(';'))\n",
    "    merge_history_splitted = set(row[\"merge_history\"].split(';'))\n",
    "\n",
    "    base_gpsc = min(gpsc_splitted, key=int)\n",
    "    if base_gpsc not in merge_history_splitted:\n",
    "        sys.exit(f\"Error:{base_gpsc} not found in merge_history {merge_history_splitted} of {row[\"sample\"]}\")\n",
    "\n",
    "    merged_gpscs.add(\";\".join(sorted(gpsc_splitted.union(merge_history_splitted), key=int)))"
   ]
  },
  {
   "cell_type": "code",
   "execution_count": 12,
   "id": "66fb15a4",
   "metadata": {},
   "outputs": [],
   "source": [
    "merged_gpscs_with_merge_clusters = [set(gpsc.split(';')) for gpsc in merged_gpscs if ';' in gpsc]"
   ]
  },
  {
   "cell_type": "code",
   "execution_count": 13,
   "id": "f28956d8",
   "metadata": {},
   "outputs": [],
   "source": [
    "new_merge = True\n",
    "\n",
    "while new_merge:\n",
    "    new_merge = False\n",
    "    next_list = []\n",
    "    while merged_gpscs_with_merge_clusters:\n",
    "        cur_merged_gpsc = merged_gpscs_with_merge_clusters.pop()\n",
    "        for i, merged_gpsc in enumerate(next_list):\n",
    "            if cur_merged_gpsc.intersection(merged_gpsc):\n",
    "                next_list[i] = cur_merged_gpsc.union(merged_gpsc)\n",
    "                new_merge = True\n",
    "                break\n",
    "        else:\n",
    "            next_list.append(cur_merged_gpsc)\n",
    "    merged_gpscs_with_merge_clusters = next_list"
   ]
  },
  {
   "cell_type": "code",
   "execution_count": 14,
   "id": "2e53f094",
   "metadata": {},
   "outputs": [],
   "source": [
    "dict_merged_gpsc = dict()\n",
    "\n",
    "for merged_gpscs in merged_gpscs_with_merge_clusters:\n",
    "    base_gpsc = min(merged_gpscs, key=int)\n",
    "    merge_history = ';'.join(sorted(merged_gpscs, key=int))\n",
    "    for gpsc in merged_gpscs:\n",
    "        dict_merged_gpsc.update({gpsc: {'merge_history': merge_history, 'base_gpsc': base_gpsc}})"
   ]
  },
  {
   "cell_type": "code",
   "execution_count": 15,
   "id": "c9a1a1d4",
   "metadata": {},
   "outputs": [],
   "source": [
    "def update_base_gpsc_and_merge_history(row):\n",
    "    if row[\"GPSC\"] == \"235;9\":\n",
    "        row[\"merge_history\"] = \"235;9\"\n",
    "        return row\n",
    "    \n",
    "    base_gpsc = min(row[\"GPSC\"].split(\";\"), key=int)\n",
    "\n",
    "    if base_gpsc not in dict_merged_gpsc:\n",
    "        row[\"merge_history\"] = base_gpsc\n",
    "        return row\n",
    "\n",
    "    row[\"GPSC\"] = dict_merged_gpsc[base_gpsc][\"base_gpsc\"]\n",
    "    row[\"merge_history\"] = dict_merged_gpsc[base_gpsc][\"merge_history\"]\n",
    "    return row"
   ]
  },
  {
   "cell_type": "code",
   "execution_count": 16,
   "id": "092fa2e8",
   "metadata": {},
   "outputs": [],
   "source": [
    "df_new_db_gpsc = df_new_db_gpsc[[\"sample\", \"GPSC\"]].apply(update_base_gpsc_and_merge_history, axis=1)"
   ]
  },
  {
   "cell_type": "code",
   "execution_count": 17,
   "id": "3970c7df",
   "metadata": {},
   "outputs": [],
   "source": [
    "new_db_gpsc_output_path = os.path.join(dbs_path, f\"{new_db}_external_clusters.csv\")\n",
    "\n",
    "df_new_db_gpsc.to_csv(new_db_gpsc_output_path, index=False)"
   ]
  }
 ],
 "metadata": {
  "kernelspec": {
   "display_name": "jupyter",
   "language": "python",
   "name": "python3"
  },
  "language_info": {
   "codemirror_mode": {
    "name": "ipython",
    "version": 3
   },
   "file_extension": ".py",
   "mimetype": "text/x-python",
   "name": "python",
   "nbconvert_exporter": "python",
   "pygments_lexer": "ipython3",
   "version": "3.13.1"
  }
 },
 "nbformat": 4,
 "nbformat_minor": 5
}
