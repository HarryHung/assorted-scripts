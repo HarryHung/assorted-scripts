{
 "cells": [
  {
   "cell_type": "code",
   "execution_count": 1,
   "id": "601202f6",
   "metadata": {},
   "outputs": [],
   "source": [
    "import pandas as pd"
   ]
  },
  {
   "cell_type": "code",
   "execution_count": 2,
   "id": "6c8503dc",
   "metadata": {},
   "outputs": [],
   "source": [
    "gpsc_path = \"/home/ubuntu/poppunk/poppunk_db/GPS_v9_1_external_clusters.csv\"\n",
    "validation_result_path = \"/home/ubuntu/poppunk/poppunk_validation/results_gps_v9_1_validation/results_gps_v9_1_validation_external_clusters.csv\"\n",
    "\n",
    "validation_prefix = \"poppunkvalidation_\""
   ]
  },
  {
   "cell_type": "code",
   "execution_count": 3,
   "id": "88b5acd7",
   "metadata": {},
   "outputs": [],
   "source": [
    "def get_df(csv_path):\n",
    "    return pd.read_csv(csv_path, dtype=str, keep_default_na=False)"
   ]
  },
  {
   "cell_type": "code",
   "execution_count": 4,
   "id": "ad4ef9e9",
   "metadata": {},
   "outputs": [],
   "source": [
    "df_gpsc = get_df(gpsc_path)\n",
    "df_result = get_df(validation_result_path)\n",
    "\n",
    "df_result[\"sample\"] = df_result[\"sample\"].str.removeprefix(validation_prefix)"
   ]
  },
  {
   "cell_type": "code",
   "execution_count": 5,
   "id": "5e7cea45",
   "metadata": {},
   "outputs": [
    {
     "name": "stdout",
     "output_type": "stream",
     "text": [
      "Successfully validated\n"
     ]
    }
   ],
   "source": [
    "df_compare = df_result.merge(df_gpsc[[\"sample\", \"GPSC\"]], on=\"sample\", how=\"left\", suffixes=(\"_result\", \"_original\"))\n",
    "df_compare_diff = df_compare[df_compare[\"GPSC_result\"] != df_compare[\"GPSC_original\"]]\n",
    "\n",
    "if df_compare_diff.empty:\n",
    "    print(\"Successfully validated\")\n",
    "else:\n",
    "    print(\"Error: the GPSC assignment in validation is different from the original\")\n",
    "    print(df_compare_diff)"
   ]
  }
 ],
 "metadata": {
  "kernelspec": {
   "display_name": "jupyter",
   "language": "python",
   "name": "python3"
  },
  "language_info": {
   "codemirror_mode": {
    "name": "ipython",
    "version": 3
   },
   "file_extension": ".py",
   "mimetype": "text/x-python",
   "name": "python",
   "nbconvert_exporter": "python",
   "pygments_lexer": "ipython3",
   "version": "3.13.1"
  }
 },
 "nbformat": 4,
 "nbformat_minor": 5
}
